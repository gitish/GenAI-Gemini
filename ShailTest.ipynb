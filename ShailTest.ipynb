{
  "nbformat": 4,
  "nbformat_minor": 0,
  "metadata": {
    "colab": {
      "provenance": [],
      "toc_visible": true,
      "authorship_tag": "ABX9TyOy0UDtrj9WNJuemwS4GkXH",
      "include_colab_link": true
    },
    "kernelspec": {
      "name": "python3",
      "display_name": "Python 3"
    },
    "language_info": {
      "name": "python"
    }
  },
  "cells": [
    {
      "cell_type": "markdown",
      "metadata": {
        "id": "view-in-github",
        "colab_type": "text"
      },
      "source": [
        "<a href=\"https://colab.research.google.com/github/gitish/GenAI-Gemini/blob/main/ShailTest.ipynb\" target=\"_parent\"><img src=\"https://colab.research.google.com/assets/colab-badge.svg\" alt=\"Open In Colab\"/></a>"
      ]
    },
    {
      "cell_type": "code",
      "execution_count": null,
      "metadata": {
        "colab": {
          "base_uri": "https://localhost:8080/",
          "height": 805
        },
        "id": "swgVVqkMDQNT",
        "outputId": "3a7b0211-05a9-4720-b8ea-de5a9c21958f"
      },
      "outputs": [
        {
          "output_type": "stream",
          "name": "stdout",
          "text": [
            "\u001b[?25l     \u001b[90m━━━━━━━━━━━━━━━━━━━━━━━━━━━━━━━━━━━━━━━━\u001b[0m \u001b[32m0.0/158.8 kB\u001b[0m \u001b[31m?\u001b[0m eta \u001b[36m-:--:--\u001b[0m\r\u001b[2K     \u001b[91m━━━━━━━━━━\u001b[0m\u001b[90m╺\u001b[0m\u001b[90m━━━━━━━━━━━━━━━━━━━━━━━━━━━━━\u001b[0m \u001b[32m41.0/158.8 kB\u001b[0m \u001b[31m923.5 kB/s\u001b[0m eta \u001b[36m0:00:01\u001b[0m\r\u001b[2K     \u001b[91m━━━━━━━━━━━━━━━━━━━━━━━━━━━━━━━━━━━━━━\u001b[0m\u001b[91m╸\u001b[0m\u001b[90m━\u001b[0m \u001b[32m153.6/158.8 kB\u001b[0m \u001b[31m2.5 MB/s\u001b[0m eta \u001b[36m0:00:01\u001b[0m\r\u001b[2K     \u001b[90m━━━━━━━━━━━━━━━━━━━━━━━━━━━━━━━━━━━━━━━━\u001b[0m \u001b[32m158.8/158.8 kB\u001b[0m \u001b[31m2.0 MB/s\u001b[0m eta \u001b[36m0:00:00\u001b[0m\n",
            "\u001b[?25h```python\n",
            "# Example list\n",
            "my_list = [5, 2, 8, 1, 9, 3]\n",
            "\n",
            "# Using the built-in sort() method\n",
            "my_list.sort()\n",
            "\n",
            "# Print the sorted list\n",
            "print(my_list)  # Output: [1, 2, 3, 5, 8, 9]\n",
            "\n",
            "# Alternatively, using the sorted() function\n",
            "sorted_list = sorted(my_list)\n",
            "\n",
            "# Print the sorted list (new list created)\n",
            "print(sorted_list)  # Output: [1, 2, 3, 5, 8, 9]\n",
            "```\n",
            "\n",
            "**Explanation:**\n",
            "\n",
            "* **`my_list.sort()`:** This method directly modifies the original list in place, sorting it in ascending order.\n",
            "* **`sorted(my_list)`:** This function creates a new sorted list without modifying the original list.\n",
            "\n",
            "**Note:** Both methods sort the list in ascending order by default. To sort in descending order, use the `reverse=True` argument:\n",
            "\n",
            "```python\n",
            "my_list.sort(reverse=True)\n",
            "sorted_list = sorted(my_list, reverse=True)\n",
            "```\n",
            "\n",
            "**Example using a custom sorting function:**\n",
            "\n",
            "```python\n",
            "def custom_sort(item):\n",
            "  return item % 3\n",
            "\n",
            "my_list = [5, 2, 8, 1, 9, 3]\n",
            "sorted_list = sorted(my_list, key=custom_sort)\n",
            "print(sorted_list)  # Output: [3, 9, 1, 8, 2, 5] \n",
            "```\n",
            "\n",
            "This example uses a custom function `custom_sort` to determine the sorting order based on the remainder when each element is divided by 3. The `key` argument in `sorted` allows you to specify a function to use for sorting.\n",
            "\n"
          ]
        }
      ],
      "source": [
        "!pip install -U -q google-generativeai # Install the Python SDK\n",
        "import google.generativeai as genai\n",
        "\n",
        "\n",
        "from google.colab import userdata\n",
        "GOOGLE_API_KEY=userdata.get('GOOGLE_API_KEY')\n",
        "genai.configure(api_key=GOOGLE_API_KEY)\n",
        "\n",
        "\n",
        "model = genai.GenerativeModel('gemini-1.5-flash')\n",
        "response = model.generate_content(\"Give me python code to sort a list\")\n",
        "print(response.text)"
      ]
    },
    {
      "cell_type": "code",
      "source": [],
      "metadata": {
        "id": "RKfuKNsKE5oD"
      },
      "execution_count": null,
      "outputs": []
    }
  ]
}